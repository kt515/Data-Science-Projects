{
  "nbformat": 4,
  "nbformat_minor": 0,
  "metadata": {
    "colab": {
      "name": "Attendance.ipynb",
      "provenance": [],
      "collapsed_sections": [],
      "include_colab_link": true
    },
    "kernelspec": {
      "name": "python3",
      "display_name": "Python 3"
    }
  },
  "cells": [
    {
      "cell_type": "markdown",
      "metadata": {
        "id": "view-in-github",
        "colab_type": "text"
      },
      "source": [
        "<a href=\"https://colab.research.google.com/github/kt515/Data-Science-Projects/blob/main/Attendance.ipynb\" target=\"_parent\"><img src=\"https://colab.research.google.com/assets/colab-badge.svg\" alt=\"Open In Colab\"/></a>"
      ]
    },
    {
      "cell_type": "markdown",
      "metadata": {
        "id": "TfZx1m7s0wfJ"
      },
      "source": [
        "##Problem Statement"
      ]
    },
    {
      "cell_type": "markdown",
      "metadata": {
        "id": "eGVI4rzV02pg"
      },
      "source": [
        "Due to this pandemic, all CCA activities are now conducted online. While it has brought some people convenience by being able to attend CCA sessions virtually, it has created many unforeseen problems. It has now become easier for participants to register for many events but not show up in the end.\n",
        "\n",
        "Using the registration data provided, how can we rank returning members and predict their possible turnout rate?"
      ]
    },
    {
      "cell_type": "code",
      "metadata": {
        "id": "Ev0qjxKMEtpj",
        "colab": {
          "base_uri": "https://localhost:8080/"
        },
        "outputId": "e000e3a3-334d-4df6-f0a4-33aae57561f5"
      },
      "source": [
        "!pip install -U -q PyDrive # remember to install pydrive if not done yet!\n",
        "!pip install xgboost"
      ],
      "execution_count": null,
      "outputs": [
        {
          "output_type": "stream",
          "text": [
            "Requirement already satisfied: xgboost in /usr/local/lib/python3.6/dist-packages (0.90)\n",
            "Requirement already satisfied: numpy in /usr/local/lib/python3.6/dist-packages (from xgboost) (1.19.5)\n",
            "Requirement already satisfied: scipy in /usr/local/lib/python3.6/dist-packages (from xgboost) (1.4.1)\n"
          ],
          "name": "stdout"
        }
      ]
    },
    {
      "cell_type": "markdown",
      "metadata": {
        "id": "PpkqOUqRA7VA"
      },
      "source": [
        "## Importing Libraries"
      ]
    },
    {
      "cell_type": "code",
      "metadata": {
        "id": "yU4_OVBd5pYr"
      },
      "source": [
        "import pandas as pd\n",
        "import numpy as np\n",
        "from pandas import DataFrame\n",
        "import seaborn as sns\n",
        "import matplotlib.pyplot as plt\n",
        "\n",
        "# Classif Libraries & metrics\n",
        "from sklearn.model_selection import train_test_split\n",
        "from sklearn.metrics import confusion_matrix, accuracy_score, mean_squared_error, r2_score, roc_auc_score, roc_curve, classification_report\n",
        "from sklearn.tree import DecisionTreeClassifier\n",
        "from sklearn.ensemble import RandomForestClassifier\n",
        "from sklearn.ensemble import GradientBoostingClassifier\n",
        "from sklearn.linear_model import LogisticRegression\n",
        "import xgboost as xgb\n",
        "from xgboost import XGBClassifier\n",
        "import lightgbm\n",
        "from lightgbm import LGBMClassifier\n",
        "from sklearn.neighbors import KNeighborsClassifier\n",
        "\n",
        "import warnings\n",
        "warnings.filterwarnings('ignore')"
      ],
      "execution_count": null,
      "outputs": []
    },
    {
      "cell_type": "markdown",
      "metadata": {
        "id": "0IxNl6SjcTsV"
      },
      "source": [
        "## Read Dataset\n"
      ]
    },
    {
      "cell_type": "code",
      "metadata": {
        "id": "_i1ax9racKKG"
      },
      "source": [
        "from pydrive.auth import GoogleAuth\n",
        "from pydrive.drive import GoogleDrive\n",
        "from google.colab import auth\n",
        "from oauth2client.client import GoogleCredentials\n",
        "# Authenticate and create the PyDrive client\n",
        "auth.authenticate_user()\n",
        "gauth = GoogleAuth()\n",
        "gauth.credentials = GoogleCredentials.get_application_default()\n",
        "drive = GoogleDrive(gauth)"
      ],
      "execution_count": null,
      "outputs": []
    },
    {
      "cell_type": "code",
      "metadata": {
        "id": "MQ3ScYPucM-h"
      },
      "source": [
        "link = '1KdGuyqJIgNCnmi9We9rqMXLP7EGO_wPq' # shareable link"
      ],
      "execution_count": null,
      "outputs": []
    },
    {
      "cell_type": "code",
      "metadata": {
        "id": "ICMd016bcMsB"
      },
      "source": [
        "downloaded = drive.CreateFile({'id':link}) \n",
        "downloaded.GetContentFile('DAC_Attendance.csv')  \n",
        "df = pd.read_csv('DAC_Attendance.csv',header = 0)\n",
        "# Dataset is stored as a pd.Dataframe"
      ],
      "execution_count": null,
      "outputs": []
    },
    {
      "cell_type": "code",
      "metadata": {
        "colab": {
          "base_uri": "https://localhost:8080/",
          "height": 199
        },
        "id": "LhkBAHv05pbK",
        "outputId": "f138d3be-ce65-49f4-d966-f5aab7146ba0"
      },
      "source": [
        "df.head()"
      ],
      "execution_count": null,
      "outputs": [
        {
          "output_type": "execute_result",
          "data": {
            "text/html": [
              "<div>\n",
              "<style scoped>\n",
              "    .dataframe tbody tr th:only-of-type {\n",
              "        vertical-align: middle;\n",
              "    }\n",
              "\n",
              "    .dataframe tbody tr th {\n",
              "        vertical-align: top;\n",
              "    }\n",
              "\n",
              "    .dataframe thead th {\n",
              "        text-align: right;\n",
              "    }\n",
              "</style>\n",
              "<table border=\"1\" class=\"dataframe\">\n",
              "  <thead>\n",
              "    <tr style=\"text-align: right;\">\n",
              "      <th></th>\n",
              "      <th>SIM ID</th>\n",
              "      <th>Name</th>\n",
              "      <th>School</th>\n",
              "      <th>Courses</th>\n",
              "      <th>Positions</th>\n",
              "      <th>Number of CCAS</th>\n",
              "      <th>Attendance</th>\n",
              "    </tr>\n",
              "  </thead>\n",
              "  <tbody>\n",
              "    <tr>\n",
              "      <th>0</th>\n",
              "      <td>1015164.0</td>\n",
              "      <td>Maggi Marriner</td>\n",
              "      <td>UoL</td>\n",
              "      <td>Social science/arts</td>\n",
              "      <td>Exco</td>\n",
              "      <td>1</td>\n",
              "      <td>1</td>\n",
              "    </tr>\n",
              "    <tr>\n",
              "      <th>1</th>\n",
              "      <td>1014337.0</td>\n",
              "      <td>Melvyn Loody</td>\n",
              "      <td>Sterling</td>\n",
              "      <td>Social science/arts</td>\n",
              "      <td>Exco</td>\n",
              "      <td>2</td>\n",
              "      <td>1</td>\n",
              "    </tr>\n",
              "    <tr>\n",
              "      <th>2</th>\n",
              "      <td>1012841.0</td>\n",
              "      <td>Noelyn Bortolazzi</td>\n",
              "      <td>UoW</td>\n",
              "      <td>Social science/arts</td>\n",
              "      <td>Exco</td>\n",
              "      <td>3</td>\n",
              "      <td>1</td>\n",
              "    </tr>\n",
              "    <tr>\n",
              "      <th>3</th>\n",
              "      <td>1019383.0</td>\n",
              "      <td>Lita Iacomini</td>\n",
              "      <td>UoW</td>\n",
              "      <td>Tech</td>\n",
              "      <td>Exco</td>\n",
              "      <td>1</td>\n",
              "      <td>1</td>\n",
              "    </tr>\n",
              "    <tr>\n",
              "      <th>4</th>\n",
              "      <td>1016356.0</td>\n",
              "      <td>Dom Fairweather</td>\n",
              "      <td>UoW</td>\n",
              "      <td>Tech</td>\n",
              "      <td>Exco</td>\n",
              "      <td>1</td>\n",
              "      <td>1</td>\n",
              "    </tr>\n",
              "  </tbody>\n",
              "</table>\n",
              "</div>"
            ],
            "text/plain": [
              "      SIM ID               Name    School  ... Positions Number of CCAS  Attendance\n",
              "0  1015164.0     Maggi Marriner       UoL  ...      Exco              1           1\n",
              "1  1014337.0       Melvyn Loody  Sterling  ...      Exco              2           1\n",
              "2  1012841.0  Noelyn Bortolazzi       UoW  ...      Exco              3           1\n",
              "3  1019383.0      Lita Iacomini       UoW  ...      Exco              1           1\n",
              "4  1016356.0    Dom Fairweather       UoW  ...      Exco              1           1\n",
              "\n",
              "[5 rows x 7 columns]"
            ]
          },
          "metadata": {
            "tags": []
          },
          "execution_count": 6
        }
      ]
    },
    {
      "cell_type": "code",
      "metadata": {
        "colab": {
          "base_uri": "https://localhost:8080/"
        },
        "id": "n1lW6gmZMIBQ",
        "outputId": "f555d648-9f82-4bf0-df36-e3771c2ab56b"
      },
      "source": [
        "unique_schools = df['School'].unique()\n",
        "unique_courses = df['Courses'].unique()\n",
        "print(unique_schools,unique_courses)"
      ],
      "execution_count": null,
      "outputs": [
        {
          "output_type": "stream",
          "text": [
            "['UoL' 'Sterling' 'UoW' 'RMIT' 'Global' 'UB'] ['Social science/arts' 'Tech' 'Business']\n"
          ],
          "name": "stdout"
        }
      ]
    },
    {
      "cell_type": "markdown",
      "metadata": {
        "id": "kX2_8MphCYgY"
      },
      "source": [
        "## Data Cleaning\n",
        "- Remove NA values\n",
        "- Convert data types\n",
        "- Replace all 0 CCA with 1 CCA \n",
        "- Standardize School Names"
      ]
    },
    {
      "cell_type": "markdown",
      "metadata": {
        "id": "CzoFyTFDCvUO"
      },
      "source": [
        "#### Remove NA"
      ]
    },
    {
      "cell_type": "code",
      "metadata": {
        "colab": {
          "base_uri": "https://localhost:8080/"
        },
        "id": "LhCMsi2s9RIW",
        "outputId": "96f0bbbc-7893-462f-b04f-95f732551907"
      },
      "source": [
        "df.isna().sum() # 2 NA values in \"SIM ID\" column"
      ],
      "execution_count": null,
      "outputs": [
        {
          "output_type": "execute_result",
          "data": {
            "text/plain": [
              "SIM ID            2\n",
              "Name              0\n",
              "School            0\n",
              "Courses           0\n",
              "Positions         0\n",
              "Number of CCAS    0\n",
              "Attendance        0\n",
              "dtype: int64"
            ]
          },
          "metadata": {
            "tags": []
          },
          "execution_count": 8
        }
      ]
    },
    {
      "cell_type": "code",
      "metadata": {
        "colab": {
          "base_uri": "https://localhost:8080/",
          "height": 108
        },
        "id": "iWTt9qZN96R6",
        "outputId": "754d88d0-0245-4152-ff4d-88eb4706b8a9"
      },
      "source": [
        "df[df.isnull().any(axis=1)] # rows with missing SIM ID"
      ],
      "execution_count": null,
      "outputs": [
        {
          "output_type": "execute_result",
          "data": {
            "text/html": [
              "<div>\n",
              "<style scoped>\n",
              "    .dataframe tbody tr th:only-of-type {\n",
              "        vertical-align: middle;\n",
              "    }\n",
              "\n",
              "    .dataframe tbody tr th {\n",
              "        vertical-align: top;\n",
              "    }\n",
              "\n",
              "    .dataframe thead th {\n",
              "        text-align: right;\n",
              "    }\n",
              "</style>\n",
              "<table border=\"1\" class=\"dataframe\">\n",
              "  <thead>\n",
              "    <tr style=\"text-align: right;\">\n",
              "      <th></th>\n",
              "      <th>SIM ID</th>\n",
              "      <th>Name</th>\n",
              "      <th>School</th>\n",
              "      <th>Courses</th>\n",
              "      <th>Positions</th>\n",
              "      <th>Number of CCAS</th>\n",
              "      <th>Attendance</th>\n",
              "    </tr>\n",
              "  </thead>\n",
              "  <tbody>\n",
              "    <tr>\n",
              "      <th>9</th>\n",
              "      <td>NaN</td>\n",
              "      <td>Mandel MacDuffie</td>\n",
              "      <td>RMIT</td>\n",
              "      <td>Tech</td>\n",
              "      <td>Sub-comm</td>\n",
              "      <td>2</td>\n",
              "      <td>1</td>\n",
              "    </tr>\n",
              "    <tr>\n",
              "      <th>108</th>\n",
              "      <td>NaN</td>\n",
              "      <td>Juan Scott</td>\n",
              "      <td>Sterling</td>\n",
              "      <td>Business</td>\n",
              "      <td>Others</td>\n",
              "      <td>1</td>\n",
              "      <td>1</td>\n",
              "    </tr>\n",
              "  </tbody>\n",
              "</table>\n",
              "</div>"
            ],
            "text/plain": [
              "     SIM ID              Name    School  ... Positions Number of CCAS  Attendance\n",
              "9       NaN  Mandel MacDuffie      RMIT  ...  Sub-comm              2           1\n",
              "108     NaN        Juan Scott  Sterling  ...    Others              1           1\n",
              "\n",
              "[2 rows x 7 columns]"
            ]
          },
          "metadata": {
            "tags": []
          },
          "execution_count": 9
        }
      ]
    },
    {
      "cell_type": "code",
      "metadata": {
        "colab": {
          "base_uri": "https://localhost:8080/"
        },
        "id": "w44WNOeI9XWN",
        "outputId": "cc06d7e0-a6f4-4c42-f643-c81120c9a185"
      },
      "source": [
        "df = df.dropna() # drop NA rows\n",
        "df.isna().sum()"
      ],
      "execution_count": null,
      "outputs": [
        {
          "output_type": "execute_result",
          "data": {
            "text/plain": [
              "SIM ID            0\n",
              "Name              0\n",
              "School            0\n",
              "Courses           0\n",
              "Positions         0\n",
              "Number of CCAS    0\n",
              "Attendance        0\n",
              "dtype: int64"
            ]
          },
          "metadata": {
            "tags": []
          },
          "execution_count": 10
        }
      ]
    },
    {
      "cell_type": "markdown",
      "metadata": {
        "id": "ox86JZl3C9rX"
      },
      "source": [
        "#### Convert data types"
      ]
    },
    {
      "cell_type": "code",
      "metadata": {
        "colab": {
          "base_uri": "https://localhost:8080/"
        },
        "id": "qnUsilW95pgS",
        "outputId": "9eb64f96-3a5e-4976-c344-68ff32ad7115"
      },
      "source": [
        "df.info()"
      ],
      "execution_count": null,
      "outputs": [
        {
          "output_type": "stream",
          "text": [
            "<class 'pandas.core.frame.DataFrame'>\n",
            "Int64Index: 198 entries, 0 to 199\n",
            "Data columns (total 7 columns):\n",
            " #   Column          Non-Null Count  Dtype  \n",
            "---  ------          --------------  -----  \n",
            " 0   SIM ID          198 non-null    float64\n",
            " 1   Name            198 non-null    object \n",
            " 2   School          198 non-null    object \n",
            " 3   Courses         198 non-null    object \n",
            " 4   Positions       198 non-null    object \n",
            " 5   Number of CCAS  198 non-null    int64  \n",
            " 6   Attendance      198 non-null    int64  \n",
            "dtypes: float64(1), int64(2), object(4)\n",
            "memory usage: 12.4+ KB\n"
          ],
          "name": "stdout"
        }
      ]
    },
    {
      "cell_type": "code",
      "metadata": {
        "id": "xcl4V5h15pj5"
      },
      "source": [
        "df['SIM ID'] = df['SIM ID'].astype(int) # convert SIM ID to integer"
      ],
      "execution_count": null,
      "outputs": []
    },
    {
      "cell_type": "markdown",
      "metadata": {
        "id": "duqwBo_HC5ji"
      },
      "source": [
        "#### Replace all 0 CCA with 1 CCA"
      ]
    },
    {
      "cell_type": "code",
      "metadata": {
        "colab": {
          "base_uri": "https://localhost:8080/"
        },
        "id": "UfTLY-M15pmt",
        "outputId": "56efb7f0-3783-40a1-b35f-bae04f1114f5"
      },
      "source": [
        "df['Number of CCAS'].value_counts() # number of 0 CCAs should be none as everyone should have DAC as a CCA"
      ],
      "execution_count": null,
      "outputs": [
        {
          "output_type": "execute_result",
          "data": {
            "text/plain": [
              "1    135\n",
              "2     48\n",
              "3     11\n",
              "4      2\n",
              "0      2\n",
              "Name: Number of CCAS, dtype: int64"
            ]
          },
          "metadata": {
            "tags": []
          },
          "execution_count": 13
        }
      ]
    },
    {
      "cell_type": "code",
      "metadata": {
        "colab": {
          "base_uri": "https://localhost:8080/"
        },
        "id": "Ws66m0KT5poh",
        "outputId": "9b237199-6388-452d-b5ee-f6dd431414b0"
      },
      "source": [
        "df['Number of CCAS'] = df['Number of CCAS'].replace(0,1)\n",
        "df['Number of CCAS'].value_counts() # all 0 CCAs removed"
      ],
      "execution_count": null,
      "outputs": [
        {
          "output_type": "execute_result",
          "data": {
            "text/plain": [
              "1    137\n",
              "2     48\n",
              "3     11\n",
              "4      2\n",
              "Name: Number of CCAS, dtype: int64"
            ]
          },
          "metadata": {
            "tags": []
          },
          "execution_count": 14
        }
      ]
    },
    {
      "cell_type": "markdown",
      "metadata": {
        "id": "L59P2Q4fH9lH"
      },
      "source": [
        ""
      ]
    },
    {
      "cell_type": "markdown",
      "metadata": {
        "id": "GDC8dkGfIDGC"
      },
      "source": [
        "Standardize School Names\n"
      ]
    },
    {
      "cell_type": "code",
      "metadata": {
        "colab": {
          "base_uri": "https://localhost:8080/"
        },
        "id": "pJlpforQH8z8",
        "outputId": "7bc06478-9dad-47bf-96f7-36de40707f07"
      },
      "source": [
        "df['School'] = df['School'].str.upper() # Change all to uppercase\n",
        "df['School']"
      ],
      "execution_count": null,
      "outputs": [
        {
          "output_type": "execute_result",
          "data": {
            "text/plain": [
              "0           UOL\n",
              "1      STERLING\n",
              "2           UOW\n",
              "3           UOW\n",
              "4           UOW\n",
              "         ...   \n",
              "195        RMIT\n",
              "196         UOL\n",
              "197        RMIT\n",
              "198      GLOBAL\n",
              "199        RMIT\n",
              "Name: School, Length: 198, dtype: object"
            ]
          },
          "metadata": {
            "tags": []
          },
          "execution_count": 15
        }
      ]
    },
    {
      "cell_type": "markdown",
      "metadata": {
        "id": "xwoKIMwxFLPN"
      },
      "source": [
        "## Data Transformation\n",
        "- Introduce a new feature \"Relative registered duration\" - smaller values signify that student has been in the school for a long time\n",
        "\n",
        "Since SIM ID are consequtively getting bigger as the years increase, students with bigger SIMID have registered later than their counterparts with a smaller SIM ID. \n",
        "\n"
      ]
    },
    {
      "cell_type": "code",
      "metadata": {
        "id": "brT9Cye4FIld"
      },
      "source": [
        "df['Relative registered duration'] = df['SIM ID'] - 1000000 # the intial \"10XXXXX\" is redundant"
      ],
      "execution_count": null,
      "outputs": []
    },
    {
      "cell_type": "code",
      "metadata": {
        "colab": {
          "base_uri": "https://localhost:8080/"
        },
        "id": "BB1rrpPvFuUp",
        "outputId": "656708f1-779c-42de-a0b1-cd55673f2ab4"
      },
      "source": [
        "from sklearn.preprocessing import MinMaxScaler\n",
        "scaler = MinMaxScaler()\n",
        "df['Relative registered duration'] = scaler.fit_transform(df[['Relative registered duration']])\n",
        "#df['Number of CCAS'] = scaler.fit_transform(df[['Number of CCAS']])\n",
        "print(df['Relative registered duration']) # values of \"relative registered duration\" is scaled between 0 to 1 "
      ],
      "execution_count": null,
      "outputs": [
        {
          "output_type": "stream",
          "text": [
            "0      0.323036\n",
            "1      0.270899\n",
            "2      0.176586\n",
            "3      0.589018\n",
            "4      0.398184\n",
            "         ...   \n",
            "195    0.830349\n",
            "196    0.632140\n",
            "197    0.104463\n",
            "198    0.167633\n",
            "199    0.735216\n",
            "Name: Relative registered duration, Length: 198, dtype: float64\n"
          ],
          "name": "stdout"
        }
      ]
    },
    {
      "cell_type": "markdown",
      "metadata": {
        "id": "Yb79SmGp0fHv"
      },
      "source": [
        "## Data transformation for ML\n",
        "I've encoded the categorical data here"
      ]
    },
    {
      "cell_type": "code",
      "metadata": {
        "id": "A3PwE1ov0oKp",
        "colab": {
          "base_uri": "https://localhost:8080/",
          "height": 338
        },
        "outputId": "f2480cc4-d693-461b-bd3a-9eb816990de6"
      },
      "source": [
        "df1 = pd.get_dummies(df, columns=['School','Courses','Positions'],drop_first=True)\n",
        "df1.head()\n",
        "# df1 is the transformed dataest for ML, df is the orignal dataset"
      ],
      "execution_count": null,
      "outputs": [
        {
          "output_type": "execute_result",
          "data": {
            "text/html": [
              "<div>\n",
              "<style scoped>\n",
              "    .dataframe tbody tr th:only-of-type {\n",
              "        vertical-align: middle;\n",
              "    }\n",
              "\n",
              "    .dataframe tbody tr th {\n",
              "        vertical-align: top;\n",
              "    }\n",
              "\n",
              "    .dataframe thead th {\n",
              "        text-align: right;\n",
              "    }\n",
              "</style>\n",
              "<table border=\"1\" class=\"dataframe\">\n",
              "  <thead>\n",
              "    <tr style=\"text-align: right;\">\n",
              "      <th></th>\n",
              "      <th>SIM ID</th>\n",
              "      <th>Name</th>\n",
              "      <th>Number of CCAS</th>\n",
              "      <th>Attendance</th>\n",
              "      <th>Relative registered duration</th>\n",
              "      <th>School_RMIT</th>\n",
              "      <th>School_STERLING</th>\n",
              "      <th>School_UB</th>\n",
              "      <th>School_UOL</th>\n",
              "      <th>School_UOW</th>\n",
              "      <th>Courses_Social science/arts</th>\n",
              "      <th>Courses_Tech</th>\n",
              "      <th>Positions_Others</th>\n",
              "      <th>Positions_Sub-comm</th>\n",
              "    </tr>\n",
              "  </thead>\n",
              "  <tbody>\n",
              "    <tr>\n",
              "      <th>0</th>\n",
              "      <td>1015164</td>\n",
              "      <td>Maggi Marriner</td>\n",
              "      <td>1</td>\n",
              "      <td>1</td>\n",
              "      <td>0.323036</td>\n",
              "      <td>0</td>\n",
              "      <td>0</td>\n",
              "      <td>0</td>\n",
              "      <td>1</td>\n",
              "      <td>0</td>\n",
              "      <td>1</td>\n",
              "      <td>0</td>\n",
              "      <td>0</td>\n",
              "      <td>0</td>\n",
              "    </tr>\n",
              "    <tr>\n",
              "      <th>1</th>\n",
              "      <td>1014337</td>\n",
              "      <td>Melvyn Loody</td>\n",
              "      <td>2</td>\n",
              "      <td>1</td>\n",
              "      <td>0.270899</td>\n",
              "      <td>0</td>\n",
              "      <td>1</td>\n",
              "      <td>0</td>\n",
              "      <td>0</td>\n",
              "      <td>0</td>\n",
              "      <td>1</td>\n",
              "      <td>0</td>\n",
              "      <td>0</td>\n",
              "      <td>0</td>\n",
              "    </tr>\n",
              "    <tr>\n",
              "      <th>2</th>\n",
              "      <td>1012841</td>\n",
              "      <td>Noelyn Bortolazzi</td>\n",
              "      <td>3</td>\n",
              "      <td>1</td>\n",
              "      <td>0.176586</td>\n",
              "      <td>0</td>\n",
              "      <td>0</td>\n",
              "      <td>0</td>\n",
              "      <td>0</td>\n",
              "      <td>1</td>\n",
              "      <td>1</td>\n",
              "      <td>0</td>\n",
              "      <td>0</td>\n",
              "      <td>0</td>\n",
              "    </tr>\n",
              "    <tr>\n",
              "      <th>3</th>\n",
              "      <td>1019383</td>\n",
              "      <td>Lita Iacomini</td>\n",
              "      <td>1</td>\n",
              "      <td>1</td>\n",
              "      <td>0.589018</td>\n",
              "      <td>0</td>\n",
              "      <td>0</td>\n",
              "      <td>0</td>\n",
              "      <td>0</td>\n",
              "      <td>1</td>\n",
              "      <td>0</td>\n",
              "      <td>1</td>\n",
              "      <td>0</td>\n",
              "      <td>0</td>\n",
              "    </tr>\n",
              "    <tr>\n",
              "      <th>4</th>\n",
              "      <td>1016356</td>\n",
              "      <td>Dom Fairweather</td>\n",
              "      <td>1</td>\n",
              "      <td>1</td>\n",
              "      <td>0.398184</td>\n",
              "      <td>0</td>\n",
              "      <td>0</td>\n",
              "      <td>0</td>\n",
              "      <td>0</td>\n",
              "      <td>1</td>\n",
              "      <td>0</td>\n",
              "      <td>1</td>\n",
              "      <td>0</td>\n",
              "      <td>0</td>\n",
              "    </tr>\n",
              "  </tbody>\n",
              "</table>\n",
              "</div>"
            ],
            "text/plain": [
              "    SIM ID               Name  ...  Positions_Others  Positions_Sub-comm\n",
              "0  1015164     Maggi Marriner  ...                 0                   0\n",
              "1  1014337       Melvyn Loody  ...                 0                   0\n",
              "2  1012841  Noelyn Bortolazzi  ...                 0                   0\n",
              "3  1019383      Lita Iacomini  ...                 0                   0\n",
              "4  1016356    Dom Fairweather  ...                 0                   0\n",
              "\n",
              "[5 rows x 14 columns]"
            ]
          },
          "metadata": {
            "tags": []
          },
          "execution_count": 18
        }
      ]
    },
    {
      "cell_type": "code",
      "metadata": {
        "id": "Aem8Ziyi0oso",
        "colab": {
          "base_uri": "https://localhost:8080/",
          "height": 339
        },
        "outputId": "5a9aa25e-5ee0-4995-d8db-964703d9f62b"
      },
      "source": [
        "# Transforming categorical data into numerical data to be fed into ML models\n",
        "df['Courses coded'] = pd.Categorical(df['Courses'])\n",
        "for course,index in zip(df['Courses'].unique(),np.arange(1,4)):\n",
        "    df['Courses coded'] = df['Courses coded'].replace(course,index)\n",
        "\n",
        "df['School coded'] = pd.Categorical(df['School'])\n",
        "for School,index in zip(df['School'].unique(),np.arange(1,7)):\n",
        "    df['School coded'] = df['School coded'].replace(School,index)\n",
        "\n",
        "df['Positions coded'] = pd.Categorical(df['Positions'])\n",
        "for Positions,index in zip(df['Positions'].unique(),np.arange(1,4)):\n",
        "    df['Positions coded'] = df['Positions coded'].replace(Positions,index)\n",
        "df.head()"
      ],
      "execution_count": null,
      "outputs": [
        {
          "output_type": "execute_result",
          "data": {
            "text/html": [
              "<div>\n",
              "<style scoped>\n",
              "    .dataframe tbody tr th:only-of-type {\n",
              "        vertical-align: middle;\n",
              "    }\n",
              "\n",
              "    .dataframe tbody tr th {\n",
              "        vertical-align: top;\n",
              "    }\n",
              "\n",
              "    .dataframe thead th {\n",
              "        text-align: right;\n",
              "    }\n",
              "</style>\n",
              "<table border=\"1\" class=\"dataframe\">\n",
              "  <thead>\n",
              "    <tr style=\"text-align: right;\">\n",
              "      <th></th>\n",
              "      <th>SIM ID</th>\n",
              "      <th>Name</th>\n",
              "      <th>School</th>\n",
              "      <th>Courses</th>\n",
              "      <th>Positions</th>\n",
              "      <th>Number of CCAS</th>\n",
              "      <th>Attendance</th>\n",
              "      <th>Relative registered duration</th>\n",
              "      <th>Courses coded</th>\n",
              "      <th>School coded</th>\n",
              "      <th>Positions coded</th>\n",
              "    </tr>\n",
              "  </thead>\n",
              "  <tbody>\n",
              "    <tr>\n",
              "      <th>0</th>\n",
              "      <td>1015164</td>\n",
              "      <td>Maggi Marriner</td>\n",
              "      <td>UOL</td>\n",
              "      <td>Social science/arts</td>\n",
              "      <td>Exco</td>\n",
              "      <td>1</td>\n",
              "      <td>1</td>\n",
              "      <td>0.323036</td>\n",
              "      <td>1</td>\n",
              "      <td>1</td>\n",
              "      <td>1</td>\n",
              "    </tr>\n",
              "    <tr>\n",
              "      <th>1</th>\n",
              "      <td>1014337</td>\n",
              "      <td>Melvyn Loody</td>\n",
              "      <td>STERLING</td>\n",
              "      <td>Social science/arts</td>\n",
              "      <td>Exco</td>\n",
              "      <td>2</td>\n",
              "      <td>1</td>\n",
              "      <td>0.270899</td>\n",
              "      <td>1</td>\n",
              "      <td>2</td>\n",
              "      <td>1</td>\n",
              "    </tr>\n",
              "    <tr>\n",
              "      <th>2</th>\n",
              "      <td>1012841</td>\n",
              "      <td>Noelyn Bortolazzi</td>\n",
              "      <td>UOW</td>\n",
              "      <td>Social science/arts</td>\n",
              "      <td>Exco</td>\n",
              "      <td>3</td>\n",
              "      <td>1</td>\n",
              "      <td>0.176586</td>\n",
              "      <td>1</td>\n",
              "      <td>3</td>\n",
              "      <td>1</td>\n",
              "    </tr>\n",
              "    <tr>\n",
              "      <th>3</th>\n",
              "      <td>1019383</td>\n",
              "      <td>Lita Iacomini</td>\n",
              "      <td>UOW</td>\n",
              "      <td>Tech</td>\n",
              "      <td>Exco</td>\n",
              "      <td>1</td>\n",
              "      <td>1</td>\n",
              "      <td>0.589018</td>\n",
              "      <td>2</td>\n",
              "      <td>3</td>\n",
              "      <td>1</td>\n",
              "    </tr>\n",
              "    <tr>\n",
              "      <th>4</th>\n",
              "      <td>1016356</td>\n",
              "      <td>Dom Fairweather</td>\n",
              "      <td>UOW</td>\n",
              "      <td>Tech</td>\n",
              "      <td>Exco</td>\n",
              "      <td>1</td>\n",
              "      <td>1</td>\n",
              "      <td>0.398184</td>\n",
              "      <td>2</td>\n",
              "      <td>3</td>\n",
              "      <td>1</td>\n",
              "    </tr>\n",
              "  </tbody>\n",
              "</table>\n",
              "</div>"
            ],
            "text/plain": [
              "    SIM ID               Name  ... School coded Positions coded\n",
              "0  1015164     Maggi Marriner  ...            1               1\n",
              "1  1014337       Melvyn Loody  ...            2               1\n",
              "2  1012841  Noelyn Bortolazzi  ...            3               1\n",
              "3  1019383      Lita Iacomini  ...            3               1\n",
              "4  1016356    Dom Fairweather  ...            3               1\n",
              "\n",
              "[5 rows x 11 columns]"
            ]
          },
          "metadata": {
            "tags": []
          },
          "execution_count": 20
        }
      ]
    },
    {
      "cell_type": "code",
      "metadata": {
        "id": "32q_-33N0on3",
        "colab": {
          "base_uri": "https://localhost:8080/"
        },
        "outputId": "9cd8f124-b1aa-4ca3-8d6f-1b33a56f0f42"
      },
      "source": [
        "# filtering only numerical columns to fit into model\n",
        "numeric_df = df.drop(columns = ['SIM ID', 'Name', 'School', 'Courses', 'Positions'])\n",
        "numeric_df.head()\n",
        "numeric_df.dtypes"
      ],
      "execution_count": null,
      "outputs": [
        {
          "output_type": "execute_result",
          "data": {
            "text/plain": [
              "Number of CCAS                     int64\n",
              "Attendance                         int64\n",
              "Relative registered duration     float64\n",
              "Courses coded                   category\n",
              "School coded                    category\n",
              "Positions coded                 category\n",
              "dtype: object"
            ]
          },
          "metadata": {
            "tags": []
          },
          "execution_count": 22
        }
      ]
    },
    {
      "cell_type": "code",
      "metadata": {
        "colab": {
          "base_uri": "https://localhost:8080/"
        },
        "id": "wMpxdzbMJe76",
        "outputId": "ab725248-44fd-443f-b164-d371a2123ce2"
      },
      "source": [
        "# Convert Categorical data into numerical to fit into models and visualization\n",
        "columns_to_select = ['Courses coded', 'School coded', 'Positions coded']\n",
        "numeric_df[columns_to_select] = numeric_df[columns_to_select].apply(pd.to_numeric, errors='coerce', axis=1)\n",
        "numeric_df.dtypes"
      ],
      "execution_count": null,
      "outputs": [
        {
          "output_type": "execute_result",
          "data": {
            "text/plain": [
              "Number of CCAS                    int64\n",
              "Attendance                        int64\n",
              "Relative registered duration    float64\n",
              "Courses coded                     int64\n",
              "School coded                      int64\n",
              "Positions coded                   int64\n",
              "dtype: object"
            ]
          },
          "metadata": {
            "tags": []
          },
          "execution_count": 23
        }
      ]
    },
    {
      "cell_type": "code",
      "metadata": {
        "colab": {
          "base_uri": "https://localhost:8080/",
          "height": 401
        },
        "id": "nDFq3KVvazzp",
        "outputId": "8ff18a4b-16e2-48f6-b774-c92cf1595e65"
      },
      "source": [
        "# incase yall okay with this :p\n",
        "plt.figure(figsize=(4, 3))\n",
        "plot = sns.catplot(data=df ,kind=\"count\", x=\"School\",hue=\"Attendance\")"
      ],
      "execution_count": null,
      "outputs": [
        {
          "output_type": "display_data",
          "data": {
            "text/plain": [
              "<Figure size 288x216 with 0 Axes>"
            ]
          },
          "metadata": {
            "tags": []
          }
        },
        {
          "output_type": "display_data",
          "data": {
            "image/png": "[encoded data removed]",
            "text/plain": [
              "<Figure size 425.5x360 with 1 Axes>"
            ]
          },
          "metadata": {
            "tags": [],
            "needs_background": "light"
          }
        }
      ]
    },
    {
      "cell_type": "code",
      "metadata": {
        "colab": {
          "base_uri": "https://localhost:8080/",
          "height": 401
        },
        "id": "iNlAMq84xdkG",
        "outputId": "6c2d929f-6cc2-45e4-88ea-5cc3121fb261"
      },
      "source": [
        "plt.figure(figsize=(4, 3))\n",
        "plot = sns.catplot(data=df ,kind=\"count\", x=\"Courses\",hue=\"Attendance\")"
      ],
      "execution_count": null,
      "outputs": [
        {
          "output_type": "display_data",
          "data": {
            "text/plain": [
              "<Figure size 288x216 with 0 Axes>"
            ]
          },
          "metadata": {
            "tags": []
          }
        },
        {
          "output_type": "display_data",
          "data": {
            "image/png": "[encoded data removed]",
            "text/plain": [
              "<Figure size 425.5x360 with 1 Axes>"
            ]
          },
          "metadata": {
            "tags": [],
            "needs_background": "light"
          }
        }
      ]
    },
    {
      "cell_type": "code",
      "metadata": {
        "colab": {
          "base_uri": "https://localhost:8080/",
          "height": 335
        },
        "id": "AzVRObd9a3Xy",
        "outputId": "d178d5c6-5a6d-479a-f355-fe11e0a52991"
      },
      "source": [
        "columns = df.iloc[:,[5,7,8,9,10]]\n",
        "sns.swarmplot(x=\"Courses\", y=\"Relative registered duration\", hue=\"Attendance\",data = df)\n",
        "plt.legend(bbox_to_anchor=(0, 1), loc='lower left', ncol=1)"
      ],
      "execution_count": null,
      "outputs": [
        {
          "output_type": "execute_result",
          "data": {
            "text/plain": [
              "<matplotlib.legend.Legend at 0x7f29d2037898>"
            ]
          },
          "metadata": {
            "tags": []
          },
          "execution_count": 58
        },
        {
          "output_type": "display_data",
          "data": {
            "image/png": "[encoded data removed]",
            "text/plain": [
              "<Figure size 432x288 with 1 Axes>"
            ]
          },
          "metadata": {
            "tags": [],
            "needs_background": "light"
          }
        }
      ]
    },
    {
      "cell_type": "code",
      "metadata": {
        "colab": {
          "base_uri": "https://localhost:8080/",
          "height": 335
        },
        "id": "NbwqSYJa-1Qd",
        "outputId": "a75bd2ea-c86b-48b6-bb4a-d66d0c0b170f"
      },
      "source": [
        "columns = df.iloc[:,[5,7,8,9,10]]\n",
        "sns.swarmplot(x=\"School\", y=\"Relative registered duration\", hue=\"Attendance\",data = df)\n",
        "plt.legend(bbox_to_anchor=(0, 1), loc='lower left', ncol=1)"
      ],
      "execution_count": null,
      "outputs": [
        {
          "output_type": "execute_result",
          "data": {
            "text/plain": [
              "<matplotlib.legend.Legend at 0x7f29d9cd2940>"
            ]
          },
          "metadata": {
            "tags": []
          },
          "execution_count": 72
        },
        {
          "output_type": "display_data",
          "data": {
            "image/png": "[encoded data removed]",
            "text/plain": [
              "<Figure size 432x288 with 1 Axes>"
            ]
          },
          "metadata": {
            "tags": [],
            "needs_background": "light"
          }
        }
      ]
    },
    {
      "cell_type": "code",
      "metadata": {
        "id": "ZuTZULOwU8nN"
      },
      "source": [
        "Index = [\"Number of CCAS\",\"Relative registered duration\",\t\"Courses coded\",\t\"School coded\",\t\"Positions coded\"]\n",
        "Cols = [\"Attendance\"]\n",
        "table = DataFrame(abs(np.random.randn(5,1)), index = Index,columns = Cols)"
      ],
      "execution_count": null,
      "outputs": []
    },
    {
      "cell_type": "code",
      "metadata": {
        "colab": {
          "base_uri": "https://localhost:8080/",
          "height": 395
        },
        "id": "RRl7yRR0UQ3E",
        "outputId": "48c15e61-9d9b-4b87-8f60-3f12c1646d3d"
      },
      "source": [
        "f, ax = plt.subplots(figsize=(6, 6))\n",
        "sns.heatmap(table,vmin=-2,vmax=2,annot=True)"
      ],
      "execution_count": null,
      "outputs": [
        {
          "output_type": "execute_result",
          "data": {
            "text/plain": [
              "<matplotlib.axes._subplots.AxesSubplot at 0x7f513d681a20>"
            ]
          },
          "metadata": {
            "tags": []
          },
          "execution_count": 49
        },
        {
          "output_type": "display_data",
          "data": {
            "image/png": "[encoded data removed]",
            "text/plain": [
              "<Figure size 432x432 with 2 Axes>"
            ]
          },
          "metadata": {
            "tags": [],
            "needs_background": "light"
          }
        }
      ]
    },
    {
      "cell_type": "code",
      "metadata": {
        "colab": {
          "base_uri": "https://localhost:8080/",
          "height": 271
        },
        "id": "enVc5jvzBouQ",
        "outputId": "f90b86ef-b7da-4aea-fe51-eda8deb83e83"
      },
      "source": [
        "# Selecting features, splitting into x and y\n",
        "\n",
        "col_list = [] #explanatory variables, x\n",
        "for col in df1:\n",
        "    if col not in ['Attendance','SIM ID','Name']:\n",
        "      col_list.append(col)\n",
        "print(col_list) \n",
        "\n",
        "df_x = df1[col_list]\n",
        "df_y = df1['Attendance']\n",
        "\n",
        "df_x.head()"
      ],
      "execution_count": null,
      "outputs": [
        {
          "output_type": "stream",
          "text": [
            "['Number of CCAS', 'Relative registered duration', 'School_RMIT', 'School_STERLING', 'School_UB', 'School_UOL', 'School_UOW', 'Courses_Social science/arts', 'Courses_Tech', 'Positions_Others', 'Positions_Sub-comm']\n"
          ],
          "name": "stdout"
        },
        {
          "output_type": "execute_result",
          "data": {
            "text/html": [
              "<div>\n",
              "<style scoped>\n",
              "    .dataframe tbody tr th:only-of-type {\n",
              "        vertical-align: middle;\n",
              "    }\n",
              "\n",
              "    .dataframe tbody tr th {\n",
              "        vertical-align: top;\n",
              "    }\n",
              "\n",
              "    .dataframe thead th {\n",
              "        text-align: right;\n",
              "    }\n",
              "</style>\n",
              "<table border=\"1\" class=\"dataframe\">\n",
              "  <thead>\n",
              "    <tr style=\"text-align: right;\">\n",
              "      <th></th>\n",
              "      <th>Number of CCAS</th>\n",
              "      <th>Relative registered duration</th>\n",
              "      <th>School_RMIT</th>\n",
              "      <th>School_STERLING</th>\n",
              "      <th>School_UB</th>\n",
              "      <th>School_UOL</th>\n",
              "      <th>School_UOW</th>\n",
              "      <th>Courses_Social science/arts</th>\n",
              "      <th>Courses_Tech</th>\n",
              "      <th>Positions_Others</th>\n",
              "      <th>Positions_Sub-comm</th>\n",
              "    </tr>\n",
              "  </thead>\n",
              "  <tbody>\n",
              "    <tr>\n",
              "      <th>0</th>\n",
              "      <td>1</td>\n",
              "      <td>0.323036</td>\n",
              "      <td>0</td>\n",
              "      <td>0</td>\n",
              "      <td>0</td>\n",
              "      <td>1</td>\n",
              "      <td>0</td>\n",
              "      <td>1</td>\n",
              "      <td>0</td>\n",
              "      <td>0</td>\n",
              "      <td>0</td>\n",
              "    </tr>\n",
              "    <tr>\n",
              "      <th>1</th>\n",
              "      <td>2</td>\n",
              "      <td>0.270899</td>\n",
              "      <td>0</td>\n",
              "      <td>1</td>\n",
              "      <td>0</td>\n",
              "      <td>0</td>\n",
              "      <td>0</td>\n",
              "      <td>1</td>\n",
              "      <td>0</td>\n",
              "      <td>0</td>\n",
              "      <td>0</td>\n",
              "    </tr>\n",
              "    <tr>\n",
              "      <th>2</th>\n",
              "      <td>3</td>\n",
              "      <td>0.176586</td>\n",
              "      <td>0</td>\n",
              "      <td>0</td>\n",
              "      <td>0</td>\n",
              "      <td>0</td>\n",
              "      <td>1</td>\n",
              "      <td>1</td>\n",
              "      <td>0</td>\n",
              "      <td>0</td>\n",
              "      <td>0</td>\n",
              "    </tr>\n",
              "    <tr>\n",
              "      <th>3</th>\n",
              "      <td>1</td>\n",
              "      <td>0.589018</td>\n",
              "      <td>0</td>\n",
              "      <td>0</td>\n",
              "      <td>0</td>\n",
              "      <td>0</td>\n",
              "      <td>1</td>\n",
              "      <td>0</td>\n",
              "      <td>1</td>\n",
              "      <td>0</td>\n",
              "      <td>0</td>\n",
              "    </tr>\n",
              "    <tr>\n",
              "      <th>4</th>\n",
              "      <td>1</td>\n",
              "      <td>0.398184</td>\n",
              "      <td>0</td>\n",
              "      <td>0</td>\n",
              "      <td>0</td>\n",
              "      <td>0</td>\n",
              "      <td>1</td>\n",
              "      <td>0</td>\n",
              "      <td>1</td>\n",
              "      <td>0</td>\n",
              "      <td>0</td>\n",
              "    </tr>\n",
              "  </tbody>\n",
              "</table>\n",
              "</div>"
            ],
            "text/plain": [
              "   Number of CCAS  ...  Positions_Sub-comm\n",
              "0               1  ...                   0\n",
              "1               2  ...                   0\n",
              "2               3  ...                   0\n",
              "3               1  ...                   0\n",
              "4               1  ...                   0\n",
              "\n",
              "[5 rows x 11 columns]"
            ]
          },
          "metadata": {
            "tags": []
          },
          "execution_count": 24
        }
      ]
    },
    {
      "cell_type": "code",
      "metadata": {
        "id": "_elamo8p0oif",
        "colab": {
          "base_uri": "https://localhost:8080/",
          "height": 216
        },
        "outputId": "279fc606-0d5b-4183-caee-fe87d9d8b7ab"
      },
      "source": [
        "# Selecting features, splitting into x and y\n",
        "\n",
        "col_list = [] #explanatory variables, x\n",
        "for col in numeric_df:\n",
        "    if col != 'Attendance': \n",
        "        col_list.append(col)\n",
        "print(col_list) \n",
        "\n",
        "df_x = numeric_df[col_list]\n",
        "df_y = numeric_df['Attendance']\n",
        "\n",
        "df_x.head()"
      ],
      "execution_count": null,
      "outputs": [
        {
          "output_type": "stream",
          "text": [
            "['Number of CCAS', 'Relative registered duration', 'Courses coded', 'School coded', 'Positions coded']\n"
          ],
          "name": "stdout"
        },
        {
          "output_type": "execute_result",
          "data": {
            "text/html": [
              "<div>\n",
              "<style scoped>\n",
              "    .dataframe tbody tr th:only-of-type {\n",
              "        vertical-align: middle;\n",
              "    }\n",
              "\n",
              "    .dataframe tbody tr th {\n",
              "        vertical-align: top;\n",
              "    }\n",
              "\n",
              "    .dataframe thead th {\n",
              "        text-align: right;\n",
              "    }\n",
              "</style>\n",
              "<table border=\"1\" class=\"dataframe\">\n",
              "  <thead>\n",
              "    <tr style=\"text-align: right;\">\n",
              "      <th></th>\n",
              "      <th>Number of CCAS</th>\n",
              "      <th>Relative registered duration</th>\n",
              "      <th>Courses coded</th>\n",
              "      <th>School coded</th>\n",
              "      <th>Positions coded</th>\n",
              "    </tr>\n",
              "  </thead>\n",
              "  <tbody>\n",
              "    <tr>\n",
              "      <th>0</th>\n",
              "      <td>1</td>\n",
              "      <td>0.323036</td>\n",
              "      <td>1</td>\n",
              "      <td>1</td>\n",
              "      <td>1</td>\n",
              "    </tr>\n",
              "    <tr>\n",
              "      <th>1</th>\n",
              "      <td>2</td>\n",
              "      <td>0.270899</td>\n",
              "      <td>1</td>\n",
              "      <td>2</td>\n",
              "      <td>1</td>\n",
              "    </tr>\n",
              "    <tr>\n",
              "      <th>2</th>\n",
              "      <td>3</td>\n",
              "      <td>0.176586</td>\n",
              "      <td>1</td>\n",
              "      <td>3</td>\n",
              "      <td>1</td>\n",
              "    </tr>\n",
              "    <tr>\n",
              "      <th>3</th>\n",
              "      <td>1</td>\n",
              "      <td>0.589018</td>\n",
              "      <td>2</td>\n",
              "      <td>3</td>\n",
              "      <td>1</td>\n",
              "    </tr>\n",
              "    <tr>\n",
              "      <th>4</th>\n",
              "      <td>1</td>\n",
              "      <td>0.398184</td>\n",
              "      <td>2</td>\n",
              "      <td>3</td>\n",
              "      <td>1</td>\n",
              "    </tr>\n",
              "  </tbody>\n",
              "</table>\n",
              "</div>"
            ],
            "text/plain": [
              "   Number of CCAS  Relative registered duration  ...  School coded  Positions coded\n",
              "0               1                      0.323036  ...             1                1\n",
              "1               2                      0.270899  ...             2                1\n",
              "2               3                      0.176586  ...             3                1\n",
              "3               1                      0.589018  ...             3                1\n",
              "4               1                      0.398184  ...             3                1\n",
              "\n",
              "[5 rows x 5 columns]"
            ]
          },
          "metadata": {
            "tags": []
          },
          "execution_count": 24
        }
      ]
    },
    {
      "cell_type": "code",
      "metadata": {
        "id": "hF4nR7Cm0ofy",
        "colab": {
          "base_uri": "https://localhost:8080/",
          "height": 359
        },
        "outputId": "54781a41-4dda-4e55-ab3d-639ebb9e2032"
      },
      "source": [
        "# Train,Test, Split\n",
        "x_train, x_test, y_train, y_test = train_test_split(df_x, \n",
        "                                                    df_y, \n",
        "                                                    test_size=0.20, # 20% Testing Data\n",
        "                                                    random_state=10)\n",
        "\n",
        "display(x_train.head())\n",
        "display(y_train.head())"
      ],
      "execution_count": null,
      "outputs": [
        {
          "output_type": "display_data",
          "data": {
            "text/html": [
              "<div>\n",
              "<style scoped>\n",
              "    .dataframe tbody tr th:only-of-type {\n",
              "        vertical-align: middle;\n",
              "    }\n",
              "\n",
              "    .dataframe tbody tr th {\n",
              "        vertical-align: top;\n",
              "    }\n",
              "\n",
              "    .dataframe thead th {\n",
              "        text-align: right;\n",
              "    }\n",
              "</style>\n",
              "<table border=\"1\" class=\"dataframe\">\n",
              "  <thead>\n",
              "    <tr style=\"text-align: right;\">\n",
              "      <th></th>\n",
              "      <th>Number of CCAS</th>\n",
              "      <th>Relative registered duration</th>\n",
              "      <th>School_RMIT</th>\n",
              "      <th>School_STERLING</th>\n",
              "      <th>School_UB</th>\n",
              "      <th>School_UOL</th>\n",
              "      <th>School_UOW</th>\n",
              "      <th>Courses_Social science/arts</th>\n",
              "      <th>Courses_Tech</th>\n",
              "      <th>Positions_Others</th>\n",
              "      <th>Positions_Sub-comm</th>\n",
              "    </tr>\n",
              "  </thead>\n",
              "  <tbody>\n",
              "    <tr>\n",
              "      <th>190</th>\n",
              "      <td>1</td>\n",
              "      <td>0.501198</td>\n",
              "      <td>0</td>\n",
              "      <td>0</td>\n",
              "      <td>0</td>\n",
              "      <td>1</td>\n",
              "      <td>0</td>\n",
              "      <td>0</td>\n",
              "      <td>1</td>\n",
              "      <td>1</td>\n",
              "      <td>0</td>\n",
              "    </tr>\n",
              "    <tr>\n",
              "      <th>7</th>\n",
              "      <td>1</td>\n",
              "      <td>0.775879</td>\n",
              "      <td>0</td>\n",
              "      <td>1</td>\n",
              "      <td>0</td>\n",
              "      <td>0</td>\n",
              "      <td>0</td>\n",
              "      <td>1</td>\n",
              "      <td>0</td>\n",
              "      <td>0</td>\n",
              "      <td>1</td>\n",
              "    </tr>\n",
              "    <tr>\n",
              "      <th>27</th>\n",
              "      <td>1</td>\n",
              "      <td>0.161707</td>\n",
              "      <td>0</td>\n",
              "      <td>0</td>\n",
              "      <td>0</td>\n",
              "      <td>0</td>\n",
              "      <td>1</td>\n",
              "      <td>0</td>\n",
              "      <td>1</td>\n",
              "      <td>0</td>\n",
              "      <td>1</td>\n",
              "    </tr>\n",
              "    <tr>\n",
              "      <th>138</th>\n",
              "      <td>1</td>\n",
              "      <td>0.389358</td>\n",
              "      <td>0</td>\n",
              "      <td>1</td>\n",
              "      <td>0</td>\n",
              "      <td>0</td>\n",
              "      <td>0</td>\n",
              "      <td>0</td>\n",
              "      <td>1</td>\n",
              "      <td>1</td>\n",
              "      <td>0</td>\n",
              "    </tr>\n",
              "    <tr>\n",
              "      <th>59</th>\n",
              "      <td>1</td>\n",
              "      <td>0.247762</td>\n",
              "      <td>0</td>\n",
              "      <td>0</td>\n",
              "      <td>0</td>\n",
              "      <td>1</td>\n",
              "      <td>0</td>\n",
              "      <td>0</td>\n",
              "      <td>1</td>\n",
              "      <td>1</td>\n",
              "      <td>0</td>\n",
              "    </tr>\n",
              "  </tbody>\n",
              "</table>\n",
              "</div>"
            ],
            "text/plain": [
              "     Number of CCAS  ...  Positions_Sub-comm\n",
              "190               1  ...                   0\n",
              "7                 1  ...                   1\n",
              "27                1  ...                   1\n",
              "138               1  ...                   0\n",
              "59                1  ...                   0\n",
              "\n",
              "[5 rows x 11 columns]"
            ]
          },
          "metadata": {
            "tags": []
          }
        },
        {
          "output_type": "display_data",
          "data": {
            "text/plain": [
              "190    1\n",
              "7      1\n",
              "27     1\n",
              "138    1\n",
              "59     1\n",
              "Name: Attendance, dtype: int64"
            ]
          },
          "metadata": {
            "tags": []
          }
        }
      ]
    },
    {
      "cell_type": "markdown",
      "metadata": {
        "id": "MFfy3RsKCCxC"
      },
      "source": [
        "## Logistic Regression"
      ]
    },
    {
      "cell_type": "code",
      "metadata": {
        "colab": {
          "base_uri": "https://localhost:8080/",
          "height": 488
        },
        "id": "7NZQHZeVBghv",
        "outputId": "a3d22dfe-4198-4e3b-eed6-708d58959c65"
      },
      "source": [
        "# fit model\n",
        "logisticRegr = LogisticRegression()\n",
        "\n",
        "logisticRegr = logisticRegr.fit(x_train, y_train)\n",
        "results = logisticRegr.predict(x_test)\n",
        "\n",
        "cm = confusion_matrix(y_test, results)\n",
        "lr_acc = accuracy_score(y_test, results)\n",
        "print(\"Accuracy:\", lr_acc, \"\\n\")\n",
        "print(classification_report(y_test, results))\n",
        "\n",
        "fig = plt.figure()\n",
        "ax1 = fig.add_subplot(111)\n",
        "sns.heatmap(cm, annot=True, fmt='.0f', annot_kws={\"size\": 25}, ax=ax1)\n",
        "ax1.set_title(\"Confusion matrix of Logistic Regression\")\n",
        "ax1.set_ylabel(\"Actual\")\n",
        "ax1.set_xlabel(\"Predicted\")\n",
        "plt.show()"
      ],
      "execution_count": null,
      "outputs": [
        {
          "output_type": "stream",
          "text": [
            "Accuracy: 0.8 \n",
            "\n",
            "              precision    recall  f1-score   support\n",
            "\n",
            "           0       0.60      0.82      0.69        11\n",
            "           1       0.92      0.79      0.85        29\n",
            "\n",
            "    accuracy                           0.80        40\n",
            "   macro avg       0.76      0.81      0.77        40\n",
            "weighted avg       0.83      0.80      0.81        40\n",
            "\n"
          ],
          "name": "stdout"
        },
        {
          "output_type": "display_data",
          "data": {
            "image/png": "[encoded data removed]",
            "text/plain": [
              "<Figure size 432x288 with 2 Axes>"
            ]
          },
          "metadata": {
            "tags": [],
            "needs_background": "light"
          }
        }
      ]
    },
    {
      "cell_type": "markdown",
      "metadata": {
        "id": "iAsYwEvWYVhp"
      },
      "source": [
        "## Ranking of members"
      ]
    },
    {
      "cell_type": "code",
      "metadata": {
        "id": "8s-KUJm6Ubhw"
      },
      "source": [
        "prob_results = logisticRegr.predict_proba(df_x)\n",
        "df['prob_of_attendance'] = prob_results[:,1]"
      ],
      "execution_count": null,
      "outputs": []
    },
    {
      "cell_type": "code",
      "metadata": {
        "colab": {
          "base_uri": "https://localhost:8080/",
          "height": 199
        },
        "id": "bZOWimXRUbSy",
        "outputId": "df9f953f-5011-460a-f524-c2df9d894581"
      },
      "source": [
        "df_sorted = df.sort_values(by=['prob_of_attendance'], ascending=False)\n",
        "df_sorted = df_sorted[['SIM ID','Name','prob_of_attendance']].reset_index().drop('index',axis=1)\n",
        "df_sorted.head()"
      ],
      "execution_count": null,
      "outputs": [
        {
          "output_type": "execute_result",
          "data": {
            "text/html": [
              "<div>\n",
              "<style scoped>\n",
              "    .dataframe tbody tr th:only-of-type {\n",
              "        vertical-align: middle;\n",
              "    }\n",
              "\n",
              "    .dataframe tbody tr th {\n",
              "        vertical-align: top;\n",
              "    }\n",
              "\n",
              "    .dataframe thead th {\n",
              "        text-align: right;\n",
              "    }\n",
              "</style>\n",
              "<table border=\"1\" class=\"dataframe\">\n",
              "  <thead>\n",
              "    <tr style=\"text-align: right;\">\n",
              "      <th></th>\n",
              "      <th>SIM ID</th>\n",
              "      <th>Name</th>\n",
              "      <th>prob_of_attendance</th>\n",
              "    </tr>\n",
              "  </thead>\n",
              "  <tbody>\n",
              "    <tr>\n",
              "      <th>0</th>\n",
              "      <td>1010490</td>\n",
              "      <td>Annice Lidington</td>\n",
              "      <td>0.998756</td>\n",
              "    </tr>\n",
              "    <tr>\n",
              "      <th>1</th>\n",
              "      <td>1022683</td>\n",
              "      <td>Madlen Lyver</td>\n",
              "      <td>0.997169</td>\n",
              "    </tr>\n",
              "    <tr>\n",
              "      <th>2</th>\n",
              "      <td>1012605</td>\n",
              "      <td>Binny Abbys</td>\n",
              "      <td>0.994736</td>\n",
              "    </tr>\n",
              "    <tr>\n",
              "      <th>3</th>\n",
              "      <td>1012921</td>\n",
              "      <td>Daron Mallya</td>\n",
              "      <td>0.994623</td>\n",
              "    </tr>\n",
              "    <tr>\n",
              "      <th>4</th>\n",
              "      <td>1015658</td>\n",
              "      <td>Berrie Sahnow</td>\n",
              "      <td>0.993936</td>\n",
              "    </tr>\n",
              "  </tbody>\n",
              "</table>\n",
              "</div>"
            ],
            "text/plain": [
              "    SIM ID              Name  prob_of_attendance\n",
              "0  1010490  Annice Lidington            0.998756\n",
              "1  1022683      Madlen Lyver            0.997169\n",
              "2  1012605       Binny Abbys            0.994736\n",
              "3  1012921      Daron Mallya            0.994623\n",
              "4  1015658     Berrie Sahnow            0.993936"
            ]
          },
          "metadata": {
            "tags": []
          },
          "execution_count": 28
        }
      ]
    },
    {
      "cell_type": "markdown",
      "metadata": {
        "id": "hImuJzvWCKQB"
      },
      "source": [
        "## Random Forest"
      ]
    },
    {
      "cell_type": "code",
      "metadata": {
        "id": "HDAivFZq0odS",
        "colab": {
          "base_uri": "https://localhost:8080/",
          "height": 488
        },
        "outputId": "427d5d2a-87d4-4f9c-97e2-6afc3b1bc9e8"
      },
      "source": [
        "rand = RandomForestClassifier()\n",
        "rand = rand.fit(x_train, y_train)\n",
        "results2 = rand.predict(x_test)\n",
        "\n",
        "cm = confusion_matrix(y_test, results2)\n",
        "rand_acc = accuracy_score(y_test, results2)\n",
        "print(\"Accuracy:\", rand_acc, \"\\n\")\n",
        "print(classification_report(y_test, results2))\n",
        "\n",
        "fig = plt.figure()\n",
        "ax1 = fig.add_subplot(111)\n",
        "sns.heatmap(cm, annot=True, fmt='.0f', annot_kws={\"size\": 25}, ax=ax1)\n",
        "ax1.set_title(\"Confusion matrix of Random Forest Classification\")\n",
        "ax1.set_ylabel(\"Actual\")\n",
        "ax1.set_xlabel(\"Predicted\")\n",
        "plt.show()"
      ],
      "execution_count": null,
      "outputs": [
        {
          "output_type": "stream",
          "text": [
            "Accuracy: 0.825 \n",
            "\n",
            "              precision    recall  f1-score   support\n",
            "\n",
            "           0       0.64      0.82      0.72        11\n",
            "           1       0.92      0.83      0.87        29\n",
            "\n",
            "    accuracy                           0.82        40\n",
            "   macro avg       0.78      0.82      0.80        40\n",
            "weighted avg       0.85      0.82      0.83        40\n",
            "\n"
          ],
          "name": "stdout"
        },
        {
          "output_type": "display_data",
          "data": {
            "image/png": "[encoded data removed]",
            "text/plain": [
              "<Figure size 432x288 with 2 Axes>"
            ]
          },
          "metadata": {
            "tags": [],
            "needs_background": "light"
          }
        }
      ]
    },
    {
      "cell_type": "code",
      "metadata": {
        "colab": {
          "base_uri": "https://localhost:8080/",
          "height": 299
        },
        "id": "xeLS-5H0CkGu",
        "outputId": "693ed53e-b923-415b-f188-c4a19b357031"
      },
      "source": [
        "feature_imp = rand.feature_importances_\n",
        "g = sns.barplot(x=feature_imp, y=col_list) \n",
        "g.set_title('Feature Importance using Random Forest Classifier')"
      ],
      "execution_count": null,
      "outputs": [
        {
          "output_type": "execute_result",
          "data": {
            "text/plain": [
              "Text(0.5, 1.0, 'Feature Importance using Random Forest Classifier')"
            ]
          },
          "metadata": {
            "tags": []
          },
          "execution_count": 30
        },
        {
          "output_type": "display_data",
          "data": {
            "image/png": "[encoded data removed]",
            "text/plain": [
              "<Figure size 432x288 with 1 Axes>"
            ]
          },
          "metadata": {
            "tags": [],
            "needs_background": "light"
          }
        }
      ]
    },
    {
      "cell_type": "code",
      "metadata": {
        "id": "QWo9xVOjYjHy"
      },
      "source": [
        "prob_results_2 = rand.predict_proba(df_x)\n",
        "df['prob_of_attendance'] = prob_results[:,1]"
      ],
      "execution_count": null,
      "outputs": []
    },
    {
      "cell_type": "code",
      "metadata": {
        "colab": {
          "base_uri": "https://localhost:8080/",
          "height": 199
        },
        "id": "hmL9AE9EYi_y",
        "outputId": "f0ce49c9-bd95-4297-b214-935f823c2fc7"
      },
      "source": [
        "df_sorted_2 = df.sort_values(by=['prob_of_attendance'], ascending=False)\n",
        "df_sorted_2 = df_sorted[['SIM ID','Name','prob_of_attendance']].reset_index().drop('index',axis=1)\n",
        "df_sorted_2.head()"
      ],
      "execution_count": null,
      "outputs": [
        {
          "output_type": "execute_result",
          "data": {
            "text/html": [
              "<div>\n",
              "<style scoped>\n",
              "    .dataframe tbody tr th:only-of-type {\n",
              "        vertical-align: middle;\n",
              "    }\n",
              "\n",
              "    .dataframe tbody tr th {\n",
              "        vertical-align: top;\n",
              "    }\n",
              "\n",
              "    .dataframe thead th {\n",
              "        text-align: right;\n",
              "    }\n",
              "</style>\n",
              "<table border=\"1\" class=\"dataframe\">\n",
              "  <thead>\n",
              "    <tr style=\"text-align: right;\">\n",
              "      <th></th>\n",
              "      <th>SIM ID</th>\n",
              "      <th>Name</th>\n",
              "      <th>prob_of_attendance</th>\n",
              "    </tr>\n",
              "  </thead>\n",
              "  <tbody>\n",
              "    <tr>\n",
              "      <th>0</th>\n",
              "      <td>1010490</td>\n",
              "      <td>Annice Lidington</td>\n",
              "      <td>0.998756</td>\n",
              "    </tr>\n",
              "    <tr>\n",
              "      <th>1</th>\n",
              "      <td>1022683</td>\n",
              "      <td>Madlen Lyver</td>\n",
              "      <td>0.997169</td>\n",
              "    </tr>\n",
              "    <tr>\n",
              "      <th>2</th>\n",
              "      <td>1012605</td>\n",
              "      <td>Binny Abbys</td>\n",
              "      <td>0.994736</td>\n",
              "    </tr>\n",
              "    <tr>\n",
              "      <th>3</th>\n",
              "      <td>1012921</td>\n",
              "      <td>Daron Mallya</td>\n",
              "      <td>0.994623</td>\n",
              "    </tr>\n",
              "    <tr>\n",
              "      <th>4</th>\n",
              "      <td>1015658</td>\n",
              "      <td>Berrie Sahnow</td>\n",
              "      <td>0.993936</td>\n",
              "    </tr>\n",
              "  </tbody>\n",
              "</table>\n",
              "</div>"
            ],
            "text/plain": [
              "    SIM ID              Name  prob_of_attendance\n",
              "0  1010490  Annice Lidington            0.998756\n",
              "1  1022683      Madlen Lyver            0.997169\n",
              "2  1012605       Binny Abbys            0.994736\n",
              "3  1012921      Daron Mallya            0.994623\n",
              "4  1015658     Berrie Sahnow            0.993936"
            ]
          },
          "metadata": {
            "tags": []
          },
          "execution_count": 32
        }
      ]
    },
    {
      "cell_type": "markdown",
      "metadata": {
        "id": "rc7wQHVOCe5d"
      },
      "source": [
        "## XGBoost"
      ]
    },
    {
      "cell_type": "code",
      "metadata": {
        "colab": {
          "base_uri": "https://localhost:8080/",
          "height": 488
        },
        "id": "n23bBpuPC6yJ",
        "outputId": "3b256c1e-11b8-4ad7-8232-063d653ee8ff"
      },
      "source": [
        "xgb = XGBClassifier()\n",
        "xgb = xgb.fit(x_train, y_train)\n",
        "results3 = xgb.predict(x_test)\n",
        "\n",
        "cm = confusion_matrix(y_test, results3)\n",
        "xgb_acc = accuracy_score(y_test, results3)\n",
        "print(\"Accuracy:\", xgb_acc, \"\\n\")\n",
        "print(classification_report(y_test, results3))\n",
        "\n",
        "fig = plt.figure()\n",
        "ax1 = fig.add_subplot(111)\n",
        "sns.heatmap(cm, annot=True, fmt='.0f', annot_kws={\"size\": 25}, ax=ax1)\n",
        "ax1.set_title(\"Confusion matrix of XGBoost Classification\")\n",
        "ax1.set_ylabel(\"Actual\")\n",
        "ax1.set_xlabel(\"Predicted\")\n",
        "plt.show()"
      ],
      "execution_count": null,
      "outputs": [
        {
          "output_type": "stream",
          "text": [
            "Accuracy: 0.875 \n",
            "\n",
            "              precision    recall  f1-score   support\n",
            "\n",
            "           0       0.71      0.91      0.80        11\n",
            "           1       0.96      0.86      0.91        29\n",
            "\n",
            "    accuracy                           0.88        40\n",
            "   macro avg       0.84      0.89      0.85        40\n",
            "weighted avg       0.89      0.88      0.88        40\n",
            "\n"
          ],
          "name": "stdout"
        },
        {
          "output_type": "display_data",
          "data": {
            "image/png": "[encoded data removed]",
            "text/plain": [
              "<Figure size 432x288 with 2 Axes>"
            ]
          },
          "metadata": {
            "tags": [],
            "needs_background": "light"
          }
        }
      ]
    },
    {
      "cell_type": "code",
      "metadata": {
        "colab": {
          "base_uri": "https://localhost:8080/",
          "height": 299
        },
        "id": "P9EwCC4GEOdZ",
        "outputId": "203ec157-1dc5-4b74-82d6-ec2e51d349de"
      },
      "source": [
        "g = sns.barplot(x=xgb.feature_importances_, y=col_list) \n",
        "g.set_title('Feature Importance using XGBoost')"
      ],
      "execution_count": null,
      "outputs": [
        {
          "output_type": "execute_result",
          "data": {
            "text/plain": [
              "Text(0.5, 1.0, 'Feature Importance using XGBoost')"
            ]
          },
          "metadata": {
            "tags": []
          },
          "execution_count": 34
        },
        {
          "output_type": "display_data",
          "data": {
            "image/png": "[encoded data removed]",
            "text/plain": [
              "<Figure size 432x288 with 1 Axes>"
            ]
          },
          "metadata": {
            "tags": [],
            "needs_background": "light"
          }
        }
      ]
    },
    {
      "cell_type": "code",
      "metadata": {
        "id": "igh3Ug3YZzu4"
      },
      "source": [
        "prob_results_3 = xgb.predict_proba(df_x)\n",
        "df['prob_of_attendance'] = prob_results[:,1]"
      ],
      "execution_count": null,
      "outputs": []
    },
    {
      "cell_type": "code",
      "metadata": {
        "colab": {
          "base_uri": "https://localhost:8080/",
          "height": 199
        },
        "id": "mmBYbArJZzlh",
        "outputId": "af4ea166-f08b-407e-c5b4-b87c0841ef7f"
      },
      "source": [
        "df_sorted_3 = df.sort_values(by=['prob_of_attendance'], ascending=False)\n",
        "df_sorted_3 = df_sorted[['SIM ID','Name','prob_of_attendance']].reset_index().drop('index',axis=1)\n",
        "df_sorted_3.head()"
      ],
      "execution_count": null,
      "outputs": [
        {
          "output_type": "execute_result",
          "data": {
            "text/html": [
              "<div>\n",
              "<style scoped>\n",
              "    .dataframe tbody tr th:only-of-type {\n",
              "        vertical-align: middle;\n",
              "    }\n",
              "\n",
              "    .dataframe tbody tr th {\n",
              "        vertical-align: top;\n",
              "    }\n",
              "\n",
              "    .dataframe thead th {\n",
              "        text-align: right;\n",
              "    }\n",
              "</style>\n",
              "<table border=\"1\" class=\"dataframe\">\n",
              "  <thead>\n",
              "    <tr style=\"text-align: right;\">\n",
              "      <th></th>\n",
              "      <th>SIM ID</th>\n",
              "      <th>Name</th>\n",
              "      <th>prob_of_attendance</th>\n",
              "    </tr>\n",
              "  </thead>\n",
              "  <tbody>\n",
              "    <tr>\n",
              "      <th>0</th>\n",
              "      <td>1010490</td>\n",
              "      <td>Annice Lidington</td>\n",
              "      <td>0.998756</td>\n",
              "    </tr>\n",
              "    <tr>\n",
              "      <th>1</th>\n",
              "      <td>1022683</td>\n",
              "      <td>Madlen Lyver</td>\n",
              "      <td>0.997169</td>\n",
              "    </tr>\n",
              "    <tr>\n",
              "      <th>2</th>\n",
              "      <td>1012605</td>\n",
              "      <td>Binny Abbys</td>\n",
              "      <td>0.994736</td>\n",
              "    </tr>\n",
              "    <tr>\n",
              "      <th>3</th>\n",
              "      <td>1012921</td>\n",
              "      <td>Daron Mallya</td>\n",
              "      <td>0.994623</td>\n",
              "    </tr>\n",
              "    <tr>\n",
              "      <th>4</th>\n",
              "      <td>1015658</td>\n",
              "      <td>Berrie Sahnow</td>\n",
              "      <td>0.993936</td>\n",
              "    </tr>\n",
              "  </tbody>\n",
              "</table>\n",
              "</div>"
            ],
            "text/plain": [
              "    SIM ID              Name  prob_of_attendance\n",
              "0  1010490  Annice Lidington            0.998756\n",
              "1  1022683      Madlen Lyver            0.997169\n",
              "2  1012605       Binny Abbys            0.994736\n",
              "3  1012921      Daron Mallya            0.994623\n",
              "4  1015658     Berrie Sahnow            0.993936"
            ]
          },
          "metadata": {
            "tags": []
          },
          "execution_count": 36
        }
      ]
    },
    {
      "cell_type": "markdown",
      "metadata": {
        "id": "TKRywaHFKNC6"
      },
      "source": [
        "### LightGBM "
      ]
    },
    {
      "cell_type": "code",
      "metadata": {
        "colab": {
          "base_uri": "https://localhost:8080/",
          "height": 488
        },
        "id": "XyHElrL2KOe0",
        "outputId": "415ef131-dda4-4dd0-baa3-bb64e572af99"
      },
      "source": [
        "lgbm = LGBMClassifier()\n",
        "lgbm = lgbm.fit(x_train, y_train)\n",
        "results4 = lgbm.predict(x_test)\n",
        "\n",
        "cm = confusion_matrix(y_test, results4)\n",
        "lgbm_acc = accuracy_score(y_test, results4)\n",
        "print(\"Accuracy:\", lgbm_acc, \"\\n\")\n",
        "print(classification_report(y_test, results4))\n",
        "\n",
        "fig = plt.figure()\n",
        "ax1 = fig.add_subplot(111)\n",
        "sns.heatmap(cm, annot=True, fmt='.0f', annot_kws={\"size\": 25}, ax=ax1)\n",
        "ax1.set_title(\"Confusion matrix of LightGBM Classification\")\n",
        "ax1.set_ylabel(\"Actual\")\n",
        "ax1.set_xlabel(\"Predicted\")\n",
        "plt.show()"
      ],
      "execution_count": null,
      "outputs": [
        {
          "output_type": "stream",
          "text": [
            "Accuracy: 0.85 \n",
            "\n",
            "              precision    recall  f1-score   support\n",
            "\n",
            "           0       0.67      0.91      0.77        11\n",
            "           1       0.96      0.83      0.89        29\n",
            "\n",
            "    accuracy                           0.85        40\n",
            "   macro avg       0.81      0.87      0.83        40\n",
            "weighted avg       0.88      0.85      0.86        40\n",
            "\n"
          ],
          "name": "stdout"
        },
        {
          "output_type": "display_data",
          "data": {
            "image/png": "[encoded data removed]",
            "text/plain": [
              "<Figure size 432x288 with 2 Axes>"
            ]
          },
          "metadata": {
            "tags": [],
            "needs_background": "light"
          }
        }
      ]
    },
    {
      "cell_type": "code",
      "metadata": {
        "colab": {
          "base_uri": "https://localhost:8080/",
          "height": 299
        },
        "id": "cSd0a95MKYdx",
        "outputId": "65d1e097-c5f1-4687-be4c-7ce491ff7521"
      },
      "source": [
        "g = sns.barplot(x=lgbm.feature_importances_, y=col_list) \n",
        "g.set_title('Feature Importance using LightGBM')"
      ],
      "execution_count": null,
      "outputs": [
        {
          "output_type": "execute_result",
          "data": {
            "text/plain": [
              "Text(0.5, 1.0, 'Feature Importance using LightGBM')"
            ]
          },
          "metadata": {
            "tags": []
          },
          "execution_count": 38
        },
        {
          "output_type": "display_data",
          "data": {
            "image/png": "[encoded data removed]",
            "text/plain": [
              "<Figure size 432x288 with 1 Axes>"
            ]
          },
          "metadata": {
            "tags": [],
            "needs_background": "light"
          }
        }
      ]
    },
    {
      "cell_type": "code",
      "metadata": {
        "id": "95XNNelyZMqm"
      },
      "source": [
        "prob_results_4 = lgbm.predict_proba(df_x)\n",
        "df['prob_of_attendance'] = prob_results[:,1]"
      ],
      "execution_count": null,
      "outputs": []
    },
    {
      "cell_type": "code",
      "metadata": {
        "colab": {
          "base_uri": "https://localhost:8080/",
          "height": 199
        },
        "id": "6469W4GEZMfM",
        "outputId": "cf53057c-b5c1-4734-e2f4-1d3f9fc4b69b"
      },
      "source": [
        "df_sorted_4 = df.sort_values(by=['prob_of_attendance'], ascending=False)\n",
        "df_sorted_4 = df_sorted[['SIM ID','Name','prob_of_attendance']].reset_index().drop('index',axis=1)\n",
        "df_sorted_4.head()"
      ],
      "execution_count": null,
      "outputs": [
        {
          "output_type": "execute_result",
          "data": {
            "text/html": [
              "<div>\n",
              "<style scoped>\n",
              "    .dataframe tbody tr th:only-of-type {\n",
              "        vertical-align: middle;\n",
              "    }\n",
              "\n",
              "    .dataframe tbody tr th {\n",
              "        vertical-align: top;\n",
              "    }\n",
              "\n",
              "    .dataframe thead th {\n",
              "        text-align: right;\n",
              "    }\n",
              "</style>\n",
              "<table border=\"1\" class=\"dataframe\">\n",
              "  <thead>\n",
              "    <tr style=\"text-align: right;\">\n",
              "      <th></th>\n",
              "      <th>SIM ID</th>\n",
              "      <th>Name</th>\n",
              "      <th>prob_of_attendance</th>\n",
              "    </tr>\n",
              "  </thead>\n",
              "  <tbody>\n",
              "    <tr>\n",
              "      <th>0</th>\n",
              "      <td>1010490</td>\n",
              "      <td>Annice Lidington</td>\n",
              "      <td>0.998756</td>\n",
              "    </tr>\n",
              "    <tr>\n",
              "      <th>1</th>\n",
              "      <td>1022683</td>\n",
              "      <td>Madlen Lyver</td>\n",
              "      <td>0.997169</td>\n",
              "    </tr>\n",
              "    <tr>\n",
              "      <th>2</th>\n",
              "      <td>1012605</td>\n",
              "      <td>Binny Abbys</td>\n",
              "      <td>0.994736</td>\n",
              "    </tr>\n",
              "    <tr>\n",
              "      <th>3</th>\n",
              "      <td>1012921</td>\n",
              "      <td>Daron Mallya</td>\n",
              "      <td>0.994623</td>\n",
              "    </tr>\n",
              "    <tr>\n",
              "      <th>4</th>\n",
              "      <td>1015658</td>\n",
              "      <td>Berrie Sahnow</td>\n",
              "      <td>0.993936</td>\n",
              "    </tr>\n",
              "  </tbody>\n",
              "</table>\n",
              "</div>"
            ],
            "text/plain": [
              "    SIM ID              Name  prob_of_attendance\n",
              "0  1010490  Annice Lidington            0.998756\n",
              "1  1022683      Madlen Lyver            0.997169\n",
              "2  1012605       Binny Abbys            0.994736\n",
              "3  1012921      Daron Mallya            0.994623\n",
              "4  1015658     Berrie Sahnow            0.993936"
            ]
          },
          "metadata": {
            "tags": []
          },
          "execution_count": 40
        }
      ]
    },
    {
      "cell_type": "markdown",
      "metadata": {
        "id": "-LDOpkO3Kf3M"
      },
      "source": [
        "## KNN"
      ]
    },
    {
      "cell_type": "code",
      "metadata": {
        "colab": {
          "base_uri": "https://localhost:8080/",
          "height": 488
        },
        "id": "MzHh4DVHKg9A",
        "outputId": "07065b6b-3840-4768-b1ca-84e1c9f7e412"
      },
      "source": [
        "knn = KNeighborsClassifier()\n",
        "knn = knn.fit(x_train, y_train)\n",
        "results5 = knn.predict(x_test)\n",
        "\n",
        "cm = confusion_matrix(y_test, results5)\n",
        "knn_acc = accuracy_score(y_test, results5)\n",
        "print(\"Accuracy:\", knn_acc, \"\\n\")\n",
        "print(classification_report(y_test, results5))\n",
        "\n",
        "fig = plt.figure()\n",
        "ax1 = fig.add_subplot(111)\n",
        "sns.heatmap(cm, annot=True, fmt='.0f', annot_kws={\"size\": 25}, ax=ax1)\n",
        "ax1.set_title(\"Confusion matrix of K Nearest Neighbour Classification\")\n",
        "ax1.set_ylabel(\"Actual\")\n",
        "ax1.set_xlabel(\"Predicted\")\n",
        "plt.show()"
      ],
      "execution_count": null,
      "outputs": [
        {
          "output_type": "stream",
          "text": [
            "Accuracy: 0.775 \n",
            "\n",
            "              precision    recall  f1-score   support\n",
            "\n",
            "           0       0.58      0.64      0.61        11\n",
            "           1       0.86      0.83      0.84        29\n",
            "\n",
            "    accuracy                           0.78        40\n",
            "   macro avg       0.72      0.73      0.73        40\n",
            "weighted avg       0.78      0.78      0.78        40\n",
            "\n"
          ],
          "name": "stdout"
        },
        {
          "output_type": "display_data",
          "data": {
            "image/png": "[encoded data removed]",
            "text/plain": [
              "<Figure size 432x288 with 2 Axes>"
            ]
          },
          "metadata": {
            "tags": [],
            "needs_background": "light"
          }
        }
      ]
    },
    {
      "cell_type": "code",
      "metadata": {
        "id": "-iEtx53KZgXa"
      },
      "source": [
        "prob_results_5 = knn.predict_proba(df_x)\n",
        "df['prob_of_attendance'] = prob_results[:,1]"
      ],
      "execution_count": null,
      "outputs": []
    },
    {
      "cell_type": "code",
      "metadata": {
        "colab": {
          "base_uri": "https://localhost:8080/",
          "height": 199
        },
        "id": "Ls-iYMXPZgPV",
        "outputId": "a096a97e-7211-49fc-99d7-389af1a71d80"
      },
      "source": [
        "df_sorted_5 = df.sort_values(by=['prob_of_attendance'], ascending=False)\n",
        "df_sorted_5 = df_sorted[['SIM ID','Name','prob_of_attendance']].reset_index().drop('index',axis=1)\n",
        "df_sorted_5.head()"
      ],
      "execution_count": null,
      "outputs": [
        {
          "output_type": "execute_result",
          "data": {
            "text/html": [
              "<div>\n",
              "<style scoped>\n",
              "    .dataframe tbody tr th:only-of-type {\n",
              "        vertical-align: middle;\n",
              "    }\n",
              "\n",
              "    .dataframe tbody tr th {\n",
              "        vertical-align: top;\n",
              "    }\n",
              "\n",
              "    .dataframe thead th {\n",
              "        text-align: right;\n",
              "    }\n",
              "</style>\n",
              "<table border=\"1\" class=\"dataframe\">\n",
              "  <thead>\n",
              "    <tr style=\"text-align: right;\">\n",
              "      <th></th>\n",
              "      <th>SIM ID</th>\n",
              "      <th>Name</th>\n",
              "      <th>prob_of_attendance</th>\n",
              "    </tr>\n",
              "  </thead>\n",
              "  <tbody>\n",
              "    <tr>\n",
              "      <th>0</th>\n",
              "      <td>1010490</td>\n",
              "      <td>Annice Lidington</td>\n",
              "      <td>0.998756</td>\n",
              "    </tr>\n",
              "    <tr>\n",
              "      <th>1</th>\n",
              "      <td>1022683</td>\n",
              "      <td>Madlen Lyver</td>\n",
              "      <td>0.997169</td>\n",
              "    </tr>\n",
              "    <tr>\n",
              "      <th>2</th>\n",
              "      <td>1012605</td>\n",
              "      <td>Binny Abbys</td>\n",
              "      <td>0.994736</td>\n",
              "    </tr>\n",
              "    <tr>\n",
              "      <th>3</th>\n",
              "      <td>1012921</td>\n",
              "      <td>Daron Mallya</td>\n",
              "      <td>0.994623</td>\n",
              "    </tr>\n",
              "    <tr>\n",
              "      <th>4</th>\n",
              "      <td>1015658</td>\n",
              "      <td>Berrie Sahnow</td>\n",
              "      <td>0.993936</td>\n",
              "    </tr>\n",
              "  </tbody>\n",
              "</table>\n",
              "</div>"
            ],
            "text/plain": [
              "    SIM ID              Name  prob_of_attendance\n",
              "0  1010490  Annice Lidington            0.998756\n",
              "1  1022683      Madlen Lyver            0.997169\n",
              "2  1012605       Binny Abbys            0.994736\n",
              "3  1012921      Daron Mallya            0.994623\n",
              "4  1015658     Berrie Sahnow            0.993936"
            ]
          },
          "metadata": {
            "tags": []
          },
          "execution_count": 43
        }
      ]
    },
    {
      "cell_type": "code",
      "metadata": {
        "id": "gDLhZPNuahGt"
      },
      "source": [
        "df = df.drop(['prob_of_attendance'],axis=1)"
      ],
      "execution_count": null,
      "outputs": []
    }
  ]
}